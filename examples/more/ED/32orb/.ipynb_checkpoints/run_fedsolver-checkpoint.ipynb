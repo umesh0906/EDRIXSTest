{
 "cells": [
  {
   "cell_type": "code",
   "execution_count": 1,
   "metadata": {},
   "outputs": [],
   "source": [
    "#!/usr/bin/env python"
   ]
  },
  {
   "cell_type": "code",
   "execution_count": 89,
   "metadata": {},
   "outputs": [],
   "source": [
    "import sys\n",
    "import numpy as np\n",
    "import edrixs\n",
    "from edrixs.fedrixs import ed_fsolver\n",
    "from mpi4py import MPI"
   ]
  },
  {
   "cell_type": "code",
   "execution_count": 94,
   "metadata": {},
   "outputs": [],
   "source": [
    "def get_hopping_coulomb(N_site):\n",
    "    N = N_site\n",
    "    norbs = 2*N_site\n",
    "    U, t = 4.0, -1.0\n",
    "    \n",
    "    hopp = np.zeros((N, N), dtype=np.complex128)\n",
    "    for i in range(N_site):\n",
    "        #for j in range(N_site)\n",
    "        hopp[i, (i-1+N)%N] = hopp[i, (i+1)%N] = t\n",
    "        \n",
    "    hopping = np.zeros((norbs, norbs), dtype=np.complex128)\n",
    "    hopping[0:norbs:2, 0:norbs:2] = hopp\n",
    "    hopping[1:norbs:2, 1:norbs:2] = hopp\n",
    "    \n",
    "    umat = np.zeros((norbs, norbs, norbs, norbs), dtype=np.complex128)\n",
    "    for i in range(N):\n",
    "        off = i * 2\n",
    "        umat[off, off + 1, off + 1, off] = U\n",
    "        \n",
    "    edrixs.write_emat(hopping, \"hopping_i.in\", 1E-10)\n",
    "    edrixs.write_umat(umat, \"coulomb_i.in\", 1E-10)"
   ]
  },
  {
   "cell_type": "code",
   "execution_count": 103,
   "metadata": {},
   "outputs": [],
   "source": [
    "def get_config():\n",
    "    config_in = [\n",
    "        \"&control\",\n",
    "        \"ed_solver    = 1\",\n",
    "        \"num_val_orbs = 3\",\n",
    "        \"neval        = 2\",\n",
    "        \"nvector      = 2\",\n",
    "        \"maxiter      = 500\",\n",
    "        \"eigval_tol   = 1E-10\",\n",
    "        \"idump        = .true.\",\n",
    "        \"&end\"\n",
    "    ]\n",
    "    f = open('config.in', 'w')\n",
    "    for line in config_in:\n",
    "        f.write(line + \"\\n\")\n",
    "    f.close()"
   ]
  },
  {
   "cell_type": "code",
   "execution_count": 104,
   "metadata": {},
   "outputs": [],
   "source": [
    "def get_fock(tot_sz, N_site):\n",
    "    Sz_list = [1, -1] * N_site\n",
    "    basis = edrixs.get_fock_basis_by_NSz(2*N_site, N_site, Sz_list)\n",
    "    print(\"Total Sz: \", tot_sz)\n",
    "    for key, val in list(basis.items()):\n",
    "        if key == tot_sz:\n",
    "            if len(val) > 0:\n",
    "                val.sort()\n",
    "                fname = \"fock_i.in\"\n",
    "                f = open(fname, 'w')\n",
    "                print(len(val), file=f)\n",
    "                for i in val:\n",
    "                    print(i, file=f)\n",
    "                f.close()\n",
    "            else:\n",
    "                print(\"ERROR: Wrong total Sz, check the argument and try again !\")\n",
    "                sys.exit()\n",
    "            break"
   ]
  },
  {
   "cell_type": "code",
   "execution_count": 105,
   "metadata": {},
   "outputs": [
    {
     "name": "stdout",
     "output_type": "stream",
     "text": [
      "Total Sz:  0\n",
      "edrixs >>> Running ED ...\n",
      " --------------------------------------------\n",
      "  fedrixs >>> ED begin ... \n",
      "\n",
      "  fedrixs >>> ndim_i:           4  is smaller than min_ndim:        1000\n",
      "  fedrixs >>> set ed_solver = 0, use full-diagonalization !\n",
      "\n",
      "     num_val_orbs:                3\n",
      "     ed_solver:                   0\n",
      "     neval:                       2\n",
      "     nvector:                     2\n",
      "     maxiter:                   500\n",
      "     min_ndim:                 1000\n",
      "     ncv:                         3\n",
      "     nhopp_i:                     4\n",
      "     ncoul_i:                     2\n",
      "     ndim_i:                      4\n",
      "     nprocs:                      1\n",
      "     eigval_tol:           0.10E-09\n",
      "     idump:                       F\n",
      "\n",
      "  fedrixs >>> Build Hamiltonian ...\n",
      "     Allocate memory for ham_csr ...\n",
      "     Really building Hamiltonian begin here ...\n",
      "  fedrixs >>> Number of nonzero elements of the Hamiltonian                   10\n",
      "  fedrixs >>> Done ! Time used:    2.1099999992202356E-004   seconds\n",
      "\n",
      "  fedrixs >>> Diagonalize Hamiltonian to find a few lowest states ...\n",
      "\n",
      "\n",
      "  fedrixs >>> Done ! Time used:    4.9999999987448973E-005   seconds\n",
      "\n",
      "  fedrixs >>> Calculate the density matrix ... \n",
      "  fedrixs >>> Done ! Time used:    5.4299999999329884E-004   seconds\n",
      "\n",
      "  fedrixs >>> ED end ! Total time used:    8.0399999990277138E-004   seconds\n",
      "\n"
     ]
    }
   ],
   "source": [
    "if __name__ == \"__main__\":\n",
    "    comm = MPI.COMM_WORLD\n",
    "    rank = comm.Get_rank()\n",
    "    size = comm.Get_size()\n",
    "    fcomm = comm.py2f()\n",
    "    \n",
    "    if rank == 0:\n",
    "        get_hopping_coulomb(N_site)\n",
    "        \n",
    "        get_config()\n",
    "        tot_sz = 0#int(sys.argv[1])\n",
    "        N_site = 2\n",
    "        get_fock(tot_sz, N_site)\n",
    "    comm.Barrier()\n",
    "    print(\"edrixs >>> Running ED ...\")\n",
    "    ed_fsolver(fcomm, rank, size)"
   ]
  },
  {
   "cell_type": "code",
   "execution_count": null,
   "metadata": {},
   "outputs": [],
   "source": []
  },
  {
   "cell_type": "code",
   "execution_count": null,
   "metadata": {},
   "outputs": [],
   "source": []
  }
 ],
 "metadata": {
  "kernelspec": {
   "display_name": "Python 3 (ipykernel)",
   "language": "python",
   "name": "python3"
  },
  "language_info": {
   "codemirror_mode": {
    "name": "ipython",
    "version": 3
   },
   "file_extension": ".py",
   "mimetype": "text/x-python",
   "name": "python",
   "nbconvert_exporter": "python",
   "pygments_lexer": "ipython3",
   "version": "3.10.9"
  }
 },
 "nbformat": 4,
 "nbformat_minor": 2
}
